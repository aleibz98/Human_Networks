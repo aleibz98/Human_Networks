{
 "cells": [
  {
   "attachments": {},
   "cell_type": "markdown",
   "metadata": {},
   "source": [
    "# Notebook for assignment 2"
   ]
  },
  {
   "attachments": {},
   "cell_type": "markdown",
   "metadata": {},
   "source": [
    "## Exercise 1"
   ]
  },
  {
   "cell_type": "code",
   "execution_count": 3,
   "metadata": {},
   "outputs": [],
   "source": [
    "# Imports\n",
    "import numpy as np\n",
    "import pandas as pd\n",
    "import igraph as ig\n",
    "import pyvis.network as net\n",
    "import networkx as nx\n",
    "import matplotlib.pyplot as plt"
   ]
  },
  {
   "cell_type": "code",
   "execution_count": 5,
   "metadata": {},
   "outputs": [],
   "source": [
    "# Load data\n",
    "hs_edges = pd.read_csv('Highschool_network_edge.csv')\n",
    "hs_att = pd.read_csv('Highschool_network_att.csv')\n",
    "fb_edges = pd.read_csv('Facebook_network_edge.csv')\n",
    "fb_att = pd.read_csv('Facebook_network_att.csv')"
   ]
  },
  {
   "cell_type": "code",
   "execution_count": 6,
   "metadata": {},
   "outputs": [
    {
     "data": {
      "text/html": [
       "<div>\n",
       "<style scoped>\n",
       "    .dataframe tbody tr th:only-of-type {\n",
       "        vertical-align: middle;\n",
       "    }\n",
       "\n",
       "    .dataframe tbody tr th {\n",
       "        vertical-align: top;\n",
       "    }\n",
       "\n",
       "    .dataframe thead th {\n",
       "        text-align: right;\n",
       "    }\n",
       "</style>\n",
       "<table border=\"1\" class=\"dataframe\">\n",
       "  <thead>\n",
       "    <tr style=\"text-align: right;\">\n",
       "      <th></th>\n",
       "      <th>NodeID</th>\n",
       "      <th>Gender</th>\n",
       "      <th>Hall</th>\n",
       "      <th>Threshold</th>\n",
       "    </tr>\n",
       "  </thead>\n",
       "  <tbody>\n",
       "    <tr>\n",
       "      <th>0</th>\n",
       "      <td>S1</td>\n",
       "      <td>female</td>\n",
       "      <td>1501</td>\n",
       "      <td>0.51</td>\n",
       "    </tr>\n",
       "    <tr>\n",
       "      <th>1</th>\n",
       "      <td>S2</td>\n",
       "      <td>male</td>\n",
       "      <td>1503</td>\n",
       "      <td>0.31</td>\n",
       "    </tr>\n",
       "    <tr>\n",
       "      <th>2</th>\n",
       "      <td>S3</td>\n",
       "      <td>female</td>\n",
       "      <td>1503</td>\n",
       "      <td>0.43</td>\n",
       "    </tr>\n",
       "    <tr>\n",
       "      <th>3</th>\n",
       "      <td>S4</td>\n",
       "      <td>female</td>\n",
       "      <td>1504</td>\n",
       "      <td>0.70</td>\n",
       "    </tr>\n",
       "    <tr>\n",
       "      <th>4</th>\n",
       "      <td>S5</td>\n",
       "      <td>female</td>\n",
       "      <td>1505</td>\n",
       "      <td>0.09</td>\n",
       "    </tr>\n",
       "    <tr>\n",
       "      <th>...</th>\n",
       "      <td>...</td>\n",
       "      <td>...</td>\n",
       "      <td>...</td>\n",
       "      <td>...</td>\n",
       "    </tr>\n",
       "    <tr>\n",
       "      <th>117</th>\n",
       "      <td>S118</td>\n",
       "      <td>male</td>\n",
       "      <td>1504</td>\n",
       "      <td>0.80</td>\n",
       "    </tr>\n",
       "    <tr>\n",
       "      <th>118</th>\n",
       "      <td>S119</td>\n",
       "      <td>female</td>\n",
       "      <td>1504</td>\n",
       "      <td>0.62</td>\n",
       "    </tr>\n",
       "    <tr>\n",
       "      <th>119</th>\n",
       "      <td>S120</td>\n",
       "      <td>male</td>\n",
       "      <td>1504</td>\n",
       "      <td>0.71</td>\n",
       "    </tr>\n",
       "    <tr>\n",
       "      <th>120</th>\n",
       "      <td>S121</td>\n",
       "      <td>male</td>\n",
       "      <td>1504</td>\n",
       "      <td>0.11</td>\n",
       "    </tr>\n",
       "    <tr>\n",
       "      <th>121</th>\n",
       "      <td>S122</td>\n",
       "      <td>female</td>\n",
       "      <td>1505</td>\n",
       "      <td>0.34</td>\n",
       "    </tr>\n",
       "  </tbody>\n",
       "</table>\n",
       "<p>122 rows × 4 columns</p>\n",
       "</div>"
      ],
      "text/plain": [
       "    NodeID  Gender  Hall  Threshold\n",
       "0       S1  female  1501       0.51\n",
       "1       S2    male  1503       0.31\n",
       "2       S3  female  1503       0.43\n",
       "3       S4  female  1504       0.70\n",
       "4       S5  female  1505       0.09\n",
       "..     ...     ...   ...        ...\n",
       "117   S118    male  1504       0.80\n",
       "118   S119  female  1504       0.62\n",
       "119   S120    male  1504       0.71\n",
       "120   S121    male  1504       0.11\n",
       "121   S122  female  1505       0.34\n",
       "\n",
       "[122 rows x 4 columns]"
      ]
     },
     "execution_count": 6,
     "metadata": {},
     "output_type": "execute_result"
    }
   ],
   "source": [
    "hs_att"
   ]
  },
  {
   "cell_type": "code",
   "execution_count": 7,
   "metadata": {},
   "outputs": [
    {
     "ename": "SyntaxError",
     "evalue": "invalid syntax (2803013351.py, line 10)",
     "output_type": "error",
     "traceback": [
      "\u001b[0;36m  Cell \u001b[0;32mIn[7], line 10\u001b[0;36m\u001b[0m\n\u001b[0;31m    hs_edges['from'] = hs_edges[,1]\u001b[0m\n\u001b[0m                                ^\u001b[0m\n\u001b[0;31mSyntaxError\u001b[0m\u001b[0;31m:\u001b[0m invalid syntax\n"
     ]
    }
   ],
   "source": [
    "# Build hs network\n",
    "# Define the nodes\n",
    "hs_nodes = pd.DataFrame()\n",
    "hs_nodes['name'] = hs_att['NodeID']\n",
    "hs_nodes['gender'] = hs_att['Gender']\n",
    "hs_nodes['hall'] = hs_att['Hall']\n",
    "\n",
    "# Define the edges\n",
    "hs_edges = pd.DataFrame()\n",
    "hs_edges['from'] = hs_edges[]\n",
    "hs_edges['to'] = hs_edges[]\n",
    "\n",
    "# Build the network with nodes and edges\n",
    "hs_net = net.Network(notebook=True)\n",
    "hs_net.from_pandas_edgelist(hs_edges, source='from', target='to')\n",
    "\n"
   ]
  }
 ],
 "metadata": {
  "kernelspec": {
   "display_name": "Python 3",
   "language": "python",
   "name": "python3"
  },
  "language_info": {
   "codemirror_mode": {
    "name": "ipython",
    "version": 3
   },
   "file_extension": ".py",
   "mimetype": "text/x-python",
   "name": "python",
   "nbconvert_exporter": "python",
   "pygments_lexer": "ipython3",
   "version": "3.10.10"
  },
  "orig_nbformat": 4
 },
 "nbformat": 4,
 "nbformat_minor": 2
}
